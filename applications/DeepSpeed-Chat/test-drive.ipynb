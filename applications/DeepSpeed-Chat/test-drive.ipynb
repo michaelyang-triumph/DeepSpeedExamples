{
 "cells": [
  {
   "cell_type": "markdown",
   "id": "9e0e8dd8-6842-4ca2-852d-93aa3c6d993e",
   "metadata": {},
   "source": [
    "# Source Docs"
   ]
  },
  {
   "cell_type": "markdown",
   "id": "013534ff-8943-40b7-8a33-db53f5aba1e3",
   "metadata": {},
   "source": [
    "https://github.com/microsoft/DeepSpeedExamples/tree/master/applications/DeepSpeed-Chat"
   ]
  },
  {
   "cell_type": "markdown",
   "id": "15eafe1b-ea08-40ad-8092-98d2f32fea27",
   "metadata": {},
   "source": [
    "# Install deepspeed"
   ]
  },
  {
   "cell_type": "code",
   "execution_count": 1,
   "id": "b3624476-df02-49ea-a87e-9896719955a4",
   "metadata": {
    "tags": []
   },
   "outputs": [],
   "source": [
    "!pip install deepspeed>=0.9.0"
   ]
  },
  {
   "cell_type": "markdown",
   "id": "f34092e0-c3d7-4ec3-8491-95537d91ca3c",
   "metadata": {},
   "source": [
    "# Install requirements.txt"
   ]
  },
  {
   "cell_type": "code",
   "execution_count": 3,
   "id": "274efdba-6bea-4a7c-9e4d-a2559b149c88",
   "metadata": {
    "scrolled": true,
    "tags": []
   },
   "outputs": [
    {
     "name": "stdout",
     "output_type": "stream",
     "text": [
      "Looking in indexes: https://pypi.org/simple, https://pip.repos.neuron.amazonaws.com\n",
      "Collecting git+https://github.com/huggingface/transformers (from -r applications/DeepSpeed-Chat/requirements.txt (line 7))\n",
      "  Cloning https://github.com/huggingface/transformers to /tmp/pip-req-build-olr4aol2\n",
      "  Running command git clone --filter=blob:none --quiet https://github.com/huggingface/transformers /tmp/pip-req-build-olr4aol2\n",
      "  Resolved https://github.com/huggingface/transformers to commit 8b129030cbce6e5a702dae873e52221d2b35c9fb\n",
      "  Installing build dependencies ... \u001b[?25ldone\n",
      "\u001b[?25h  Getting requirements to build wheel ... \u001b[?25ldone\n",
      "\u001b[?25h  Preparing metadata (pyproject.toml) ... \u001b[?25ldone\n",
      "\u001b[?25hCollecting datasets>=2.8.0\n",
      "  Downloading datasets-2.11.0-py3-none-any.whl (468 kB)\n",
      "\u001b[2K     \u001b[90m━━━━━━━━━━━━━━━━━━━━━━━━━━━━━━━━━━━━━━\u001b[0m \u001b[32m468.7/468.7 kB\u001b[0m \u001b[31m20.7 MB/s\u001b[0m eta \u001b[36m0:00:00\u001b[0m\n",
      "\u001b[?25hCollecting sentencepiece>=0.1.97\n",
      "  Downloading sentencepiece-0.1.98-cp310-cp310-manylinux_2_17_x86_64.manylinux2014_x86_64.whl (1.3 MB)\n",
      "\u001b[2K     \u001b[90m━━━━━━━━━━━━━━━━━━━━━━━━━━━━━━━━━━━━━━━━\u001b[0m \u001b[32m1.3/1.3 MB\u001b[0m \u001b[31m109.6 MB/s\u001b[0m eta \u001b[36m0:00:00\u001b[0m\n",
      "\u001b[?25hRequirement already satisfied: protobuf==3.20.3 in /home/ec2-user/anaconda3/envs/python3/lib/python3.10/site-packages (from -r applications/DeepSpeed-Chat/requirements.txt (line 3)) (3.20.3)\n",
      "Collecting accelerate>=0.15.0\n",
      "  Downloading accelerate-0.18.0-py3-none-any.whl (215 kB)\n",
      "\u001b[2K     \u001b[90m━━━━━━━━━━━━━━━━━━━━━━━━━━━━━━━━━━━━━━\u001b[0m \u001b[32m215.3/215.3 kB\u001b[0m \u001b[31m51.7 MB/s\u001b[0m eta \u001b[36m0:00:00\u001b[0m\n",
      "\u001b[?25hRequirement already satisfied: torch>=1.12.0 in /home/ec2-user/anaconda3/envs/python3/lib/python3.10/site-packages (from -r applications/DeepSpeed-Chat/requirements.txt (line 5)) (2.0.0)\n",
      "Requirement already satisfied: deepspeed>=0.9.0 in /home/ec2-user/anaconda3/envs/python3/lib/python3.10/site-packages (from -r applications/DeepSpeed-Chat/requirements.txt (line 6)) (0.9.1)\n",
      "Requirement already satisfied: tqdm>=4.62.1 in /home/ec2-user/anaconda3/envs/python3/lib/python3.10/site-packages (from datasets>=2.8.0->-r applications/DeepSpeed-Chat/requirements.txt (line 1)) (4.64.1)\n",
      "Collecting responses<0.19\n",
      "  Downloading responses-0.18.0-py3-none-any.whl (38 kB)\n",
      "Requirement already satisfied: numpy>=1.17 in /home/ec2-user/anaconda3/envs/python3/lib/python3.10/site-packages (from datasets>=2.8.0->-r applications/DeepSpeed-Chat/requirements.txt (line 1)) (1.22.3)\n",
      "Collecting pyarrow>=8.0.0\n",
      "  Downloading pyarrow-11.0.0-cp310-cp310-manylinux_2_17_x86_64.manylinux2014_x86_64.whl (34.9 MB)\n",
      "\u001b[2K     \u001b[90m━━━━━━━━━━━━━━━━━━━━━━━━━━━━━━━━━━━━━━━━\u001b[0m \u001b[32m34.9/34.9 MB\u001b[0m \u001b[31m49.5 MB/s\u001b[0m eta \u001b[36m0:00:00\u001b[0m00:01\u001b[0m00:01\u001b[0m\n",
      "\u001b[?25hCollecting huggingface-hub<1.0.0,>=0.11.0\n",
      "  Downloading huggingface_hub-0.14.1-py3-none-any.whl (224 kB)\n",
      "\u001b[2K     \u001b[90m━━━━━━━━━━━━━━━━━━━━━━━━━━━━━━━━━━━━━━\u001b[0m \u001b[32m224.5/224.5 kB\u001b[0m \u001b[31m36.1 MB/s\u001b[0m eta \u001b[36m0:00:00\u001b[0m\n",
      "\u001b[?25hRequirement already satisfied: dill<0.3.7,>=0.3.0 in /home/ec2-user/anaconda3/envs/python3/lib/python3.10/site-packages (from datasets>=2.8.0->-r applications/DeepSpeed-Chat/requirements.txt (line 1)) (0.3.6)\n",
      "Requirement already satisfied: pyyaml>=5.1 in /home/ec2-user/anaconda3/envs/python3/lib/python3.10/site-packages (from datasets>=2.8.0->-r applications/DeepSpeed-Chat/requirements.txt (line 1)) (5.4.1)\n",
      "Requirement already satisfied: fsspec[http]>=2021.11.1 in /home/ec2-user/anaconda3/envs/python3/lib/python3.10/site-packages (from datasets>=2.8.0->-r applications/DeepSpeed-Chat/requirements.txt (line 1)) (2022.11.0)\n",
      "Requirement already satisfied: packaging in /home/ec2-user/anaconda3/envs/python3/lib/python3.10/site-packages (from datasets>=2.8.0->-r applications/DeepSpeed-Chat/requirements.txt (line 1)) (21.3)\n",
      "Requirement already satisfied: requests>=2.19.0 in /home/ec2-user/anaconda3/envs/python3/lib/python3.10/site-packages (from datasets>=2.8.0->-r applications/DeepSpeed-Chat/requirements.txt (line 1)) (2.28.1)\n",
      "Requirement already satisfied: pandas in /home/ec2-user/anaconda3/envs/python3/lib/python3.10/site-packages (from datasets>=2.8.0->-r applications/DeepSpeed-Chat/requirements.txt (line 1)) (1.5.2)\n",
      "Collecting xxhash\n",
      "  Downloading xxhash-3.2.0-cp310-cp310-manylinux_2_17_x86_64.manylinux2014_x86_64.whl (212 kB)\n",
      "\u001b[2K     \u001b[90m━━━━━━━━━━━━━━━━━━━━━━━━━━━━━━━━━━━━━━\u001b[0m \u001b[32m212.5/212.5 kB\u001b[0m \u001b[31m54.8 MB/s\u001b[0m eta \u001b[36m0:00:00\u001b[0m\n",
      "\u001b[?25hRequirement already satisfied: multiprocess in /home/ec2-user/anaconda3/envs/python3/lib/python3.10/site-packages (from datasets>=2.8.0->-r applications/DeepSpeed-Chat/requirements.txt (line 1)) (0.70.14)\n",
      "Requirement already satisfied: aiohttp in /home/ec2-user/anaconda3/envs/python3/lib/python3.10/site-packages (from datasets>=2.8.0->-r applications/DeepSpeed-Chat/requirements.txt (line 1)) (3.8.3)\n",
      "Requirement already satisfied: psutil in /home/ec2-user/anaconda3/envs/python3/lib/python3.10/site-packages (from accelerate>=0.15.0->-r applications/DeepSpeed-Chat/requirements.txt (line 4)) (5.9.4)\n",
      "Requirement already satisfied: nvidia-cuda-nvrtc-cu11==11.7.99 in /home/ec2-user/anaconda3/envs/python3/lib/python3.10/site-packages (from torch>=1.12.0->-r applications/DeepSpeed-Chat/requirements.txt (line 5)) (11.7.99)\n",
      "Requirement already satisfied: nvidia-cufft-cu11==10.9.0.58 in /home/ec2-user/anaconda3/envs/python3/lib/python3.10/site-packages (from torch>=1.12.0->-r applications/DeepSpeed-Chat/requirements.txt (line 5)) (10.9.0.58)\n",
      "Requirement already satisfied: nvidia-nccl-cu11==2.14.3 in /home/ec2-user/anaconda3/envs/python3/lib/python3.10/site-packages (from torch>=1.12.0->-r applications/DeepSpeed-Chat/requirements.txt (line 5)) (2.14.3)\n",
      "Requirement already satisfied: sympy in /home/ec2-user/anaconda3/envs/python3/lib/python3.10/site-packages (from torch>=1.12.0->-r applications/DeepSpeed-Chat/requirements.txt (line 5)) (1.11.1)\n",
      "Requirement already satisfied: nvidia-cusolver-cu11==11.4.0.1 in /home/ec2-user/anaconda3/envs/python3/lib/python3.10/site-packages (from torch>=1.12.0->-r applications/DeepSpeed-Chat/requirements.txt (line 5)) (11.4.0.1)\n",
      "Requirement already satisfied: typing-extensions in /home/ec2-user/anaconda3/envs/python3/lib/python3.10/site-packages (from torch>=1.12.0->-r applications/DeepSpeed-Chat/requirements.txt (line 5)) (4.4.0)\n",
      "Requirement already satisfied: nvidia-cudnn-cu11==8.5.0.96 in /home/ec2-user/anaconda3/envs/python3/lib/python3.10/site-packages (from torch>=1.12.0->-r applications/DeepSpeed-Chat/requirements.txt (line 5)) (8.5.0.96)\n",
      "Requirement already satisfied: nvidia-cublas-cu11==11.10.3.66 in /home/ec2-user/anaconda3/envs/python3/lib/python3.10/site-packages (from torch>=1.12.0->-r applications/DeepSpeed-Chat/requirements.txt (line 5)) (11.10.3.66)\n",
      "Requirement already satisfied: triton==2.0.0 in /home/ec2-user/anaconda3/envs/python3/lib/python3.10/site-packages (from torch>=1.12.0->-r applications/DeepSpeed-Chat/requirements.txt (line 5)) (2.0.0)\n",
      "Requirement already satisfied: jinja2 in /home/ec2-user/anaconda3/envs/python3/lib/python3.10/site-packages (from torch>=1.12.0->-r applications/DeepSpeed-Chat/requirements.txt (line 5)) (3.1.2)\n",
      "Requirement already satisfied: networkx in /home/ec2-user/anaconda3/envs/python3/lib/python3.10/site-packages (from torch>=1.12.0->-r applications/DeepSpeed-Chat/requirements.txt (line 5)) (3.0)\n",
      "Requirement already satisfied: nvidia-cuda-runtime-cu11==11.7.99 in /home/ec2-user/anaconda3/envs/python3/lib/python3.10/site-packages (from torch>=1.12.0->-r applications/DeepSpeed-Chat/requirements.txt (line 5)) (11.7.99)\n",
      "Requirement already satisfied: nvidia-cuda-cupti-cu11==11.7.101 in /home/ec2-user/anaconda3/envs/python3/lib/python3.10/site-packages (from torch>=1.12.0->-r applications/DeepSpeed-Chat/requirements.txt (line 5)) (11.7.101)\n",
      "Requirement already satisfied: nvidia-nvtx-cu11==11.7.91 in /home/ec2-user/anaconda3/envs/python3/lib/python3.10/site-packages (from torch>=1.12.0->-r applications/DeepSpeed-Chat/requirements.txt (line 5)) (11.7.91)\n",
      "Requirement already satisfied: filelock in /home/ec2-user/anaconda3/envs/python3/lib/python3.10/site-packages (from torch>=1.12.0->-r applications/DeepSpeed-Chat/requirements.txt (line 5)) (3.9.0)\n",
      "Requirement already satisfied: nvidia-curand-cu11==10.2.10.91 in /home/ec2-user/anaconda3/envs/python3/lib/python3.10/site-packages (from torch>=1.12.0->-r applications/DeepSpeed-Chat/requirements.txt (line 5)) (10.2.10.91)\n",
      "Requirement already satisfied: nvidia-cusparse-cu11==11.7.4.91 in /home/ec2-user/anaconda3/envs/python3/lib/python3.10/site-packages (from torch>=1.12.0->-r applications/DeepSpeed-Chat/requirements.txt (line 5)) (11.7.4.91)\n",
      "Requirement already satisfied: wheel in /home/ec2-user/anaconda3/envs/python3/lib/python3.10/site-packages (from nvidia-cublas-cu11==11.10.3.66->torch>=1.12.0->-r applications/DeepSpeed-Chat/requirements.txt (line 5)) (0.38.4)\n",
      "Requirement already satisfied: setuptools in /home/ec2-user/anaconda3/envs/python3/lib/python3.10/site-packages (from nvidia-cublas-cu11==11.10.3.66->torch>=1.12.0->-r applications/DeepSpeed-Chat/requirements.txt (line 5)) (65.6.3)\n",
      "Requirement already satisfied: lit in /home/ec2-user/anaconda3/envs/python3/lib/python3.10/site-packages (from triton==2.0.0->torch>=1.12.0->-r applications/DeepSpeed-Chat/requirements.txt (line 5)) (16.0.2)\n",
      "Requirement already satisfied: cmake in /home/ec2-user/anaconda3/envs/python3/lib/python3.10/site-packages (from triton==2.0.0->torch>=1.12.0->-r applications/DeepSpeed-Chat/requirements.txt (line 5)) (3.26.3)\n",
      "Requirement already satisfied: hjson in /home/ec2-user/anaconda3/envs/python3/lib/python3.10/site-packages (from deepspeed>=0.9.0->-r applications/DeepSpeed-Chat/requirements.txt (line 6)) (3.1.0)\n",
      "Requirement already satisfied: py-cpuinfo in /home/ec2-user/anaconda3/envs/python3/lib/python3.10/site-packages (from deepspeed>=0.9.0->-r applications/DeepSpeed-Chat/requirements.txt (line 6)) (9.0.0)\n",
      "Requirement already satisfied: pydantic<2.0.0 in /home/ec2-user/anaconda3/envs/python3/lib/python3.10/site-packages (from deepspeed>=0.9.0->-r applications/DeepSpeed-Chat/requirements.txt (line 6)) (1.10.7)\n",
      "Requirement already satisfied: ninja in /home/ec2-user/anaconda3/envs/python3/lib/python3.10/site-packages (from deepspeed>=0.9.0->-r applications/DeepSpeed-Chat/requirements.txt (line 6)) (1.11.1)\n",
      "Requirement already satisfied: regex!=2019.12.17 in /home/ec2-user/anaconda3/envs/python3/lib/python3.10/site-packages (from transformers==4.29.0.dev0->-r applications/DeepSpeed-Chat/requirements.txt (line 7)) (2022.10.31)\n",
      "Collecting tokenizers!=0.11.3,<0.14,>=0.11.1\n",
      "  Downloading tokenizers-0.13.3-cp310-cp310-manylinux_2_17_x86_64.manylinux2014_x86_64.whl (7.8 MB)\n",
      "\u001b[2K     \u001b[90m━━━━━━━━━━━━━━━━━━━━━━━━━━━━━━━━━━━━━━━━\u001b[0m \u001b[32m7.8/7.8 MB\u001b[0m \u001b[31m42.3 MB/s\u001b[0m eta \u001b[36m0:00:00\u001b[0m:00:01\u001b[0m00:01\u001b[0m\n",
      "\u001b[?25hRequirement already satisfied: frozenlist>=1.1.1 in /home/ec2-user/anaconda3/envs/python3/lib/python3.10/site-packages (from aiohttp->datasets>=2.8.0->-r applications/DeepSpeed-Chat/requirements.txt (line 1)) (1.3.3)\n",
      "Requirement already satisfied: charset-normalizer<3.0,>=2.0 in /home/ec2-user/anaconda3/envs/python3/lib/python3.10/site-packages (from aiohttp->datasets>=2.8.0->-r applications/DeepSpeed-Chat/requirements.txt (line 1)) (2.1.1)\n",
      "Requirement already satisfied: attrs>=17.3.0 in /home/ec2-user/anaconda3/envs/python3/lib/python3.10/site-packages (from aiohttp->datasets>=2.8.0->-r applications/DeepSpeed-Chat/requirements.txt (line 1)) (22.2.0)\n",
      "Requirement already satisfied: yarl<2.0,>=1.0 in /home/ec2-user/anaconda3/envs/python3/lib/python3.10/site-packages (from aiohttp->datasets>=2.8.0->-r applications/DeepSpeed-Chat/requirements.txt (line 1)) (1.8.2)\n",
      "Requirement already satisfied: multidict<7.0,>=4.5 in /home/ec2-user/anaconda3/envs/python3/lib/python3.10/site-packages (from aiohttp->datasets>=2.8.0->-r applications/DeepSpeed-Chat/requirements.txt (line 1)) (6.0.4)\n",
      "Requirement already satisfied: async-timeout<5.0,>=4.0.0a3 in /home/ec2-user/anaconda3/envs/python3/lib/python3.10/site-packages (from aiohttp->datasets>=2.8.0->-r applications/DeepSpeed-Chat/requirements.txt (line 1)) (4.0.2)\n",
      "Requirement already satisfied: aiosignal>=1.1.2 in /home/ec2-user/anaconda3/envs/python3/lib/python3.10/site-packages (from aiohttp->datasets>=2.8.0->-r applications/DeepSpeed-Chat/requirements.txt (line 1)) (1.3.1)\n",
      "Requirement already satisfied: pyparsing!=3.0.5,>=2.0.2 in /home/ec2-user/anaconda3/envs/python3/lib/python3.10/site-packages (from packaging->datasets>=2.8.0->-r applications/DeepSpeed-Chat/requirements.txt (line 1)) (3.0.9)\n",
      "Requirement already satisfied: idna<4,>=2.5 in /home/ec2-user/anaconda3/envs/python3/lib/python3.10/site-packages (from requests>=2.19.0->datasets>=2.8.0->-r applications/DeepSpeed-Chat/requirements.txt (line 1)) (3.4)\n",
      "Requirement already satisfied: certifi>=2017.4.17 in /home/ec2-user/anaconda3/envs/python3/lib/python3.10/site-packages (from requests>=2.19.0->datasets>=2.8.0->-r applications/DeepSpeed-Chat/requirements.txt (line 1)) (2022.12.7)\n",
      "Requirement already satisfied: urllib3<1.27,>=1.21.1 in /home/ec2-user/anaconda3/envs/python3/lib/python3.10/site-packages (from requests>=2.19.0->datasets>=2.8.0->-r applications/DeepSpeed-Chat/requirements.txt (line 1)) (1.26.8)\n",
      "Requirement already satisfied: MarkupSafe>=2.0 in /home/ec2-user/anaconda3/envs/python3/lib/python3.10/site-packages (from jinja2->torch>=1.12.0->-r applications/DeepSpeed-Chat/requirements.txt (line 5)) (2.1.1)\n",
      "Requirement already satisfied: python-dateutil>=2.8.1 in /home/ec2-user/anaconda3/envs/python3/lib/python3.10/site-packages (from pandas->datasets>=2.8.0->-r applications/DeepSpeed-Chat/requirements.txt (line 1)) (2.8.2)\n",
      "Requirement already satisfied: pytz>=2020.1 in /home/ec2-user/anaconda3/envs/python3/lib/python3.10/site-packages (from pandas->datasets>=2.8.0->-r applications/DeepSpeed-Chat/requirements.txt (line 1)) (2022.7)\n",
      "Requirement already satisfied: mpmath>=0.19 in /home/ec2-user/anaconda3/envs/python3/lib/python3.10/site-packages (from sympy->torch>=1.12.0->-r applications/DeepSpeed-Chat/requirements.txt (line 5)) (1.2.1)\n",
      "Requirement already satisfied: six>=1.5 in /home/ec2-user/anaconda3/envs/python3/lib/python3.10/site-packages (from python-dateutil>=2.8.1->pandas->datasets>=2.8.0->-r applications/DeepSpeed-Chat/requirements.txt (line 1)) (1.16.0)\n",
      "Building wheels for collected packages: transformers\n",
      "  Building wheel for transformers (pyproject.toml) ... \u001b[?25ldone\n",
      "\u001b[?25h  Created wheel for transformers: filename=transformers-4.29.0.dev0-py3-none-any.whl size=6991777 sha256=902d373dc4a378ee49f50fc82576e12419a677c0d193b2e8c10a9715f20ab26c\n",
      "  Stored in directory: /tmp/pip-ephem-wheel-cache-o8kn7u48/wheels/c0/14/d6/6c9a5582d2ac191ec0a483be151a4495fe1eb2a6706ca49f1b\n",
      "Successfully built transformers\n",
      "Installing collected packages: tokenizers, sentencepiece, xxhash, pyarrow, responses, huggingface-hub, transformers, datasets, accelerate\n",
      "Successfully installed accelerate-0.18.0 datasets-2.11.0 huggingface-hub-0.14.1 pyarrow-11.0.0 responses-0.18.0 sentencepiece-0.1.98 tokenizers-0.13.3 transformers-4.29.0.dev0 xxhash-3.2.0\n"
     ]
    }
   ],
   "source": [
    "!pip install -r requirements.txt"
   ]
  },
  {
   "cell_type": "markdown",
   "id": "bc27dcd3-2730-4a71-9b8d-7f1146501537",
   "metadata": {},
   "source": [
    "# Test drive \n",
    "instance-type: ml.g4dn.12xlarge\n",
    "### 1. Perform Supervised Fine-Tuning with Actor model OPT-1.3B \n",
    "(More info on : https://github.com/microsoft/DeepSpeedExamples/tree/master/applications/DeepSpeed-Chat/training/step1_supervised_finetuning)\n",
    "### 2. Perform Reward Model Fine-Tuning with Reward model OPT-350M\n",
    "(More info on : https://github.com/microsoft/DeepSpeedExamples/tree/master/applications/DeepSpeed-Chat/training/step2_reward_model_finetuning)\n",
    "### 3. Perform Reinforcement Learning with Human Feedback\n",
    "(More info on : https://github.com/microsoft/DeepSpeedExamples/tree/master/applications/DeepSpeed-Chat/training/step3_rlhf_finetuning)"
   ]
  },
  {
   "cell_type": "code",
   "execution_count": null,
   "id": "7f879f92-631b-401f-9832-603ad4aabc76",
   "metadata": {
    "tags": []
   },
   "outputs": [
    {
     "name": "stdout",
     "output_type": "stream",
     "text": [
      "/home/ec2-user/SageMaker/DeepSpeedExamples/applications/DeepSpeed-Chat/train.py:100: UserWarning: Non-default zero stages may result in OOM errors or worse performance.\n",
      "  warnings.warn(\n",
      "---=== Running Step 1 ===---\n",
      "Running:\n",
      "bash /home/ec2-user/SageMaker/DeepSpeedExamples/applications/DeepSpeed-Chat/training/step1_supervised_finetuning/training_scripts/single_node/run_1.3b.sh /home/ec2-user/SageMaker/DeepSpeedExamples/applications/DeepSpeed-Chat/output/actor-models/1.3b 3\n"
     ]
    }
   ],
   "source": [
    "!python train.py --actor-model facebook/opt-1.3b\\\n",
    "                 --reward-model facebook/opt-350m\\\n",
    "                 --deployment-type single_node\\\n",
    "                 --actor-zero-stage 3\\\n",
    "                 --reward-zero-stage 3\\"
   ]
  },
  {
   "cell_type": "code",
   "execution_count": null,
   "id": "563d499f-e340-413b-8f42-0cd8b3d3bebd",
   "metadata": {},
   "outputs": [],
   "source": []
  }
 ],
 "metadata": {
  "kernelspec": {
   "display_name": "conda_python3",
   "language": "python",
   "name": "conda_python3"
  },
  "language_info": {
   "codemirror_mode": {
    "name": "ipython",
    "version": 3
   },
   "file_extension": ".py",
   "mimetype": "text/x-python",
   "name": "python",
   "nbconvert_exporter": "python",
   "pygments_lexer": "ipython3",
   "version": "3.10.8"
  },
  "toc-autonumbering": true
 },
 "nbformat": 4,
 "nbformat_minor": 5
}
